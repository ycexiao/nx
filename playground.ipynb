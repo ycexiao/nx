{
 "cells": [
  {
   "cell_type": "code",
   "execution_count": null,
   "metadata": {},
   "outputs": [],
   "source": [
    "# summary\n",
    "with MPRester() as mpr:\n",
    "    docs = mpr.materials.summary.search(\n",
    "        material_ids=[\"mp-149\", \"mp-13\", \"mp-22526\"],\n",
    "    )\n",
    "    list_of_available_fields = mpr.materials.summary.available_fields"
   ]
  },
  {
   "cell_type": "markdown",
   "metadata": {},
   "source": [
    "# Get data from `mp_api` directly"
   ]
  },
  {
   "cell_type": "markdown",
   "metadata": {},
   "source": [
    "## get coordination_number"
   ]
  },
  {
   "cell_type": "code",
   "execution_count": null,
   "metadata": {},
   "outputs": [],
   "source": [
    "import numpy as np\n",
    "import re\n",
    "\n",
    "with MPRester(\"PvwYAdq8X47uf7jorN98x48jHEEb2uy6\") as mpr:\n",
    "        docs  = mpr.materials.chemenv.search(\n",
    "            elements=[\"Fe\"],\n",
    "            num_chunks=1,\n",
    "            num_elements=(2,4),\n",
    "            fields=['chemenv_symbol', 'formula_pretty', 'material_id', 'species', 'structure'],\n",
    "        )\n",
    "\n",
    "def check_same_coordination_number(a_doc, element,verbose=False):\n",
    "    ind = []\n",
    "    sites = a_doc['species']\n",
    "    coordination_numbers = []\n",
    "    for i in range(len(sites)):\n",
    "        if re.search(element, sites[i]):  # only check the coordination number of the interested element.\n",
    "            ind.append(i)\n",
    "            coord_number = re.findall(r'(?<=:)\\d', a_doc['chemenv_symbol'][i])[0]\n",
    "            coordination_numbers.append(int(coord_number))\n",
    "\n",
    "    try:\n",
    "        if ((np.array(coordination_numbers) - coordination_numbers[0])==0).all():\n",
    "            coordination_number = coordination_numbers[0]\n",
    "            return True, coordination_number\n",
    "        else:\n",
    "            if verbose:\n",
    "                print(np.array(a_doc['species'])[ind])\n",
    "                print(np.array(a_doc['chemenv_symbol'])[ind])\n",
    "            return False, None\n",
    "    except IndexError:\n",
    "        print(np.array(a_doc))\n",
    "        # print(np.array(a_doc['species']))\n",
    "        # print(np.array(a_doc['chemenv_symbol']))\n",
    "        return False, None"
   ]
  },
  {
   "cell_type": "markdown",
   "metadata": {},
   "source": [
    "## get valences"
   ]
  },
  {
   "cell_type": "code",
   "execution_count": null,
   "metadata": {},
   "outputs": [],
   "source": [
    "with MPRester() as mpr:\n",
    "        docs  = mpr.materials.oxidation_states.search(\n",
    "                chemsys=[\"Fe-*\", \"Fe-*-*\", \"Fe-*-*-*\"],\n",
    "                num_chunks=1,\n",
    "                fields=['average_oxidation_states', 'formula_pretty', 'material_id'],\n",
    "        )\n",
    "example_doc = docs[0]\n",
    "print(example_doc.average_oxidation_states['Fe'])\n",
    "print(example_doc.material_id)\n"
   ]
  },
  {
   "cell_type": "markdown",
   "metadata": {},
   "source": [
    "# Compute features by `pymatgen`"
   ]
  },
  {
   "cell_type": "code",
   "execution_count": null,
   "metadata": {},
   "outputs": [],
   "source": [
    "with MPRester(\"PvwYAdq8X47uf7jorN98x48jHEEb2uy6\") as mpr:\n",
    "    docs = mpr.materials.search(\n",
    "        elements=[\"Fe\"],\n",
    "        num_chunks=1,\n",
    "    )\n",
    "\n",
    "example_doc = docs[0]"
   ]
  },
  {
   "cell_type": "code",
   "execution_count": null,
   "metadata": {},
   "outputs": [],
   "source": [
    "\n",
    "def check_same_values(list_of_values):\n",
    "    if ((np.array(list_of_values) - list_of_values[0])==0).all():\n",
    "        return True\n",
    "    else:\n",
    "        return False\n",
    "\n",
    "\n",
    "def get_features(element, structure):\n",
    "    \n",
    "    sites = structure._sites\n",
    "    inds = []\n",
    "    valences = []\n",
    "    coordination_numbers = []\n",
    "    mean_mean_distances = []\n",
    "\n",
    "    # calulate coordination number first\n",
    "    # since get_valences takes too much time\n",
    "    for i in range(len(sites)):\n",
    "        if re.search(element,sites[i]._label):\n",
    "            inds.append(i)\n",
    "            cn = pymatgen.analysis.local_env.CrystalNN().get_cn(structure, i)\n",
    "            coordination_numbers.append(cn)\n",
    "\n",
    "    cn_check = check_same_values(coordination_numbers)\n",
    "\n",
    "    if cn_check:\n",
    "        try:\n",
    "            site_valences = pymatgen.analysis.bond_valence.BVAnalyzer().get_valences(structure)  # takes 2s for complex structures\n",
    "        except ValueError:\n",
    "            return False, None, None, None\n",
    "        for i in range(len(inds)):\n",
    "            valences.append(site_valences[inds[i]])\n",
    "\n",
    "            neighbor_sites = pymatgen.analysis.local_env.CrystalNN().get_nn_info(structure, inds[i])\n",
    "            distances = []\n",
    "            for j in range(len(neighbor_sites)):\n",
    "                distances.append(np.linalg.norm(neighbor_sites[j]['site'].coords - sites[inds[i]].coords))\n",
    "            mean_mean_distances.append(np.mean(distances))\n",
    "        mean_mean_distances = np.mean(mean_mean_distances)\n",
    "\n",
    "        valence_check = check_same_values(valences)\n",
    "        if valence_check:\n",
    "            return True, valences[0], coordination_numbers[0], mean_mean_distances\n",
    "        else:\n",
    "            return False, None, None, None\n",
    "    else:\n",
    "        return False, None, None, None\n",
    "\n",
    "structure = example_doc.structure\n",
    "get_features(\"Fe\",structure)"
   ]
  },
  {
   "cell_type": "code",
   "execution_count": null,
   "metadata": {},
   "outputs": [],
   "source": [
    "def get_element_features(an_element):\n",
    "\n",
    "    with MPRester(\"PvwYAdq8X47uf7jorN98x48jHEEb2uy6\") as mpr:\n",
    "        docs = mpr.materials.summary.search(\n",
    "            elements=[an_element, \"O\"],\n",
    "            num_chunks=1,\n",
    "        )\n",
    "        \n",
    "    outs = []\n",
    "    for i in range(len(docs[:100])):\n",
    "        structure = docs[i].structure\n",
    "        check, valence, coordination_number, mean_mean_distance = get_features(an_element, structure)\n",
    "        if check:\n",
    "            outs.append({\n",
    "                'element': an_element,\n",
    "                'material_id':docs[i].material_id, \n",
    "                'valence':valence, \n",
    "                'coordination_number':coordination_number, \n",
    "                'mean_mean_distance':mean_mean_distance\n",
    "                })\n",
    "        else:\n",
    "            continue\n",
    "    return outs\n"
   ]
  },
  {
   "cell_type": "code",
   "execution_count": null,
   "metadata": {},
   "outputs": [],
   "source": [
    "import json\n",
    "\n",
    "outs = get_element_features(\"Ti\")\n",
    "with open('datasets/Ti.json', 'w') as f:\n",
    "    json.dump(outs, f, indent=4)"
   ]
  },
  {
   "cell_type": "code",
   "execution_count": null,
   "metadata": {},
   "outputs": [],
   "source": []
  }
 ],
 "metadata": {
  "kernelspec": {
   "display_name": "MP",
   "language": "python",
   "name": "python3"
  },
  "language_info": {
   "codemirror_mode": {
    "name": "ipython",
    "version": 3
   },
   "file_extension": ".py",
   "mimetype": "text/x-python",
   "name": "python",
   "nbconvert_exporter": "python",
   "pygments_lexer": "ipython3",
   "version": "3.13.2"
  }
 },
 "nbformat": 4,
 "nbformat_minor": 2
}
